{
 "cells": [
  {
   "cell_type": "code",
   "execution_count": 14,
   "metadata": {},
   "outputs": [
    {
     "data": {
      "text/html": [
       "<script>\n",
       "code_show=true; \n",
       "function code_toggle() {\n",
       " if (code_show){\n",
       " $('div.input').hide();\n",
       " } else {\n",
       " $('div.input').show();\n",
       " }\n",
       " code_show = !code_show\n",
       "} \n",
       "$( document ).ready(code_toggle);\n",
       "</script>\n",
       "<!--The python code for this notebook is by default hidden.-->\n",
       "<a href=\"javascript:code_toggle()\">SHOW CODE</a>."
      ],
      "text/plain": [
       "<IPython.core.display.HTML object>"
      ]
     },
     "execution_count": 14,
     "metadata": {},
     "output_type": "execute_result"
    }
   ],
   "source": [
    "from IPython.display import HTML\n",
    "HTML('''<script>\n",
    "code_show=true; \n",
    "function code_toggle() {\n",
    " if (code_show){\n",
    " $('div.input').hide();\n",
    " } else {\n",
    " $('div.input').show();\n",
    " }\n",
    " code_show = !code_show\n",
    "} \n",
    "$( document ).ready(code_toggle);\n",
    "</script>\n",
    "<!--The python code for this notebook is by default hidden.-->\n",
    "<a href=\"javascript:code_toggle()\">SHOW CODE</a>.''')"
   ]
  },
  {
   "cell_type": "markdown",
   "metadata": {},
   "source": [
    "##### TESTING ONLY. NOT INTENDED FOR PUBLISHING."
   ]
  },
  {
   "cell_type": "markdown",
   "metadata": {},
   "source": [
    "##### Analysis results using PCMDI Metrics Package.\n",
    "The PCMDI metrics package is used to objectively compare results from climate models with observations and each other using well-established statistical tests. Summary statistics are produced in the context of all model simulations contributed to CMIP5 and earlier CMIP phases.\n",
    "\n",
    "The metrics found in this git repo correspond to the \n",
    "Experiment: c96L33_am4p0_cmip6Diag\n",
    "DOI: ..\n",
    "Variables: ..\n",
    "\n",
    "This notebook provides an interactive set of commands to generate Portrait plot for the PCMDI metrics generated. \n",
    "Original Code credits: P.Glecker, PCMDI. \n",
    "\n",
    "Portrait plot generation tool: \n",
    "Files in git repo: \n",
    "portraitPlot.ipynb, portrait4seasv1p1p1.py, \n",
    "pcmdi_metrics code version: pcmdi_metrics-nox=v1.1.1\n",
    "\n",
    "Reference. \n",
    "https://github.com/PCMDI/pcmdi_metrics/wiki\n",
    "https://anaconda.org/pcmdi/pcmdi_metrics-nox\n",
    "\n",
    "GFDL Internal reference: \n",
    "This example uses metrics generated from the run associated with the experiment c96L33_am4p0_cmip6Diag.\n",
    "http://cobweb.gfdl.noaa.gov:8080/mdbi/index.jsp#exper_id_I8P31XRny5"
   ]
  },
  {
   "cell_type": "markdown",
   "metadata": {},
   "source": [
    "##### TO RUN DIRECTLY USE THE FOLLOWING COMMAND\n",
    "\n",
    "E.g.\n",
    "\n",
    "%run  portrait4seasv1p1p1.py -d c96L33_am4p0_cmip6Diag -m AMIP -o /home/a1r/git/AM4doc/c96L33_am4p0_cmip6Diag/atmos_1980_2014/pcmdi_metrics_v1p1p1/ /nbhome/Huan.Guo/awg/warsaw/c96L33_am4p0_cmip6Diag/atmos_1980_2014/pcmdi_metrics_v1p1p1/metrics\n",
    "\n",
    "Use %run portrait4seasv1p1p1 -h for HELP."
   ]
  },
  {
   "cell_type": "code",
   "execution_count": 15,
   "metadata": {},
   "outputs": [
    {
     "name": "stdout",
     "output_type": "stream",
     "text": [
      "usage: portrait4seasv1p1p1.py [-h] -d DESCRIPTOR [-o OUTPUT] [-f FORMAT] [-C]\n",
      "                              [-g] [-c] [-v VARIABLES] [-x EXCLUDE] [-m MODE]\n",
      "                              ...\n",
      "\n",
      "Portrait plot generation tool.\n",
      "\n",
      "positional arguments:\n",
      "  argv\n",
      "\n",
      "optional arguments:\n",
      "  -h, --help            show this help message and exit\n",
      "  -d DESCRIPTOR, --descriptor DESCRIPTOR\n",
      "                        The experiment name.\n",
      "  -o OUTPUT, --output OUTPUT\n",
      "                        The output directory for the portrai plot.\n",
      "  -f FORMAT, --format FORMAT\n",
      "                        The output file type for the protrait plot (ps, pdf,\n",
      "                        png)\n",
      "  -C, --compress        Compress the output.\n",
      "  -g, --gfdl_compare    Option to only compare against GFDL CMIP models.\n",
      "  -c, --cmip_compare    Option to only compare against the cmip_models.\n",
      "  -v VARIABLES, --variables VARIABLES\n",
      "                        Comma delimited list of variables to show.\n",
      "  -x EXCLUDE, --exclude EXCLUDE\n",
      "                        Comma delimited list to exclude CMIP5 models.\n",
      "  -m MODE, --mode MODE  The option to change which version of the data to\n",
      "                        compare against.\n"
     ]
    }
   ],
   "source": [
    "%run portrait4seasv1p1p1 -h "
   ]
  },
  {
   "cell_type": "markdown",
   "metadata": {},
   "source": [
    "##### TO USE THIS NOTEBOOK, MAKE SURE THE INPUT PARAMETERS ARE SET IN THE FOLLOWING. THEN, CLICK \"DRAW PORTRAIT\" BUTTON. "
   ]
  },
  {
   "cell_type": "markdown",
   "metadata": {},
   "source": [
    "##### INPUT PARAMETERS"
   ]
  },
  {
   "cell_type": "code",
   "execution_count": 16,
   "metadata": {},
   "outputs": [],
   "source": [
    "inputDir = '/nbhome/Huan.Guo/awg/warsaw/c96L33_am4p0_cmip6Diag/atmos_1980_2014/pcmdi_metrics_v1p1p1/metrics'\n",
    "var = 'pr,psl,tas,rlut,rsut,ua-850,ua-200,va-850,va-200,zg-500'\n",
    "mode='amip'\n",
    "out='/home/a1r/git/AM4doc/c96L33_am4p0_cmip6Diag/atmos_1980_2014/pcmdi_metrics_v1p1p1/'"
   ]
  },
  {
   "cell_type": "code",
   "execution_count": 17,
   "metadata": {
    "scrolled": false
   },
   "outputs": [
    {
     "data": {
      "application/vnd.jupyter.widget-view+json": {
       "model_id": "467d7e492e31430e8248fe00b1fa8676"
      }
     },
     "metadata": {},
     "output_type": "display_data"
    },
    {
     "data": {
      "application/vnd.jupyter.widget-view+json": {
       "model_id": "d46648c04387494d8dd07f04cf9d3b32"
      }
     },
     "metadata": {},
     "output_type": "display_data"
    }
   ],
   "source": [
    "CMIP_COMPARE=True\n",
    "GFDL_COMPARE=False\n",
    "expName= inputDir.split('/')[-4]\n",
    "\n",
    "\n",
    "import portrait4seasv1p1p1,sys\n",
    "from argparse import Namespace\n",
    "args = Namespace(argv=[inputDir], variables=var,cmip_compare=CMIP_COMPARE,gfdl_compare=GFDL_COMPARE,descriptor=expName,format='png',mode=mode,compress=True,exclude=None,output=out)\n",
    "pngfile= out+\"/\"+expName+\".png\"   \n",
    "xwidth=950\n",
    "ywidth=950\n",
    "\n",
    "import ipywidgets as widgets\n",
    "from IPython.display import display\n",
    "button = widgets.Button(description=\"DRAW PORTRAIT\") \n",
    "display(button)\n",
    "def drawPng(b): \n",
    "    portrait4seasv1p1p1.create_plot(args)\n",
    "    file = open(pngfile, \"rb\")\n",
    "    image = file.read() \n",
    "    img = widgets.Image(\n",
    "    value=image,\n",
    "    format='png',\n",
    "    width=xwidth,\n",
    "    height=ywidth)\n",
    "    display(img)\n",
    "    \n",
    "button.on_click(drawPng)\n",
    "\n"
   ]
  },
  {
   "cell_type": "code",
   "execution_count": null,
   "metadata": {
    "collapsed": true
   },
   "outputs": [],
   "source": []
  }
 ],
 "metadata": {
  "kernelspec": {
   "display_name": "Python [conda env:pcmdimetrics]",
   "language": "python",
   "name": "conda-env-pcmdimetrics-py"
  },
  "language_info": {
   "codemirror_mode": {
    "name": "ipython",
    "version": 2
   },
   "file_extension": ".py",
   "mimetype": "text/x-python",
   "name": "python",
   "nbconvert_exporter": "python",
   "pygments_lexer": "ipython2",
   "version": "2.7.13"
  }
 },
 "nbformat": 4,
 "nbformat_minor": 2
}
